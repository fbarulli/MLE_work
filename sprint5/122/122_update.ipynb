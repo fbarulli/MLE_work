{
 "cells": [
  {
   "cell_type": "code",
   "execution_count": 15,
   "metadata": {},
   "outputs": [
    {
     "name": "stdout",
     "output_type": "stream",
     "text": [
      "False\n"
     ]
    }
   ],
   "source": [
    "\n",
    "import pandas as pd\n",
    "import numpy as np\n",
    "\n",
    "from sklearn.model_selection import train_test_split\n",
    "from sklearn.preprocessing import StandardScaler\n",
    "from sklearn.preprocessing import LabelEncoder\n",
    "from sklearn.preprocessing import OneHotEncoder\n",
    "from imblearn.over_sampling import RandomOverSampler, SMOTE\n",
    "from imblearn.under_sampling import RandomUnderSampler,  ClusterCentroids\n",
    "from imblearn.metrics import classification_report_imbalanced, geometric_mean_score\n",
    "from sklearn.metrics import f1_score\n",
    "from sklearn.svm import SVC\n",
    "from sklearn.metrics import confusion_matrix, ConfusionMatrixDisplay\n",
    "import matplotlib.pyplot as plt\n",
    "\n",
    "\n",
    "path = '/Users/notagain/Desktop/MLE/sprint4/telecom_churn.csv'\n",
    "\n",
    "df = pd.read_csv(path).drop([\"phone number\", 'area code', \"state\", \"voice mail plan\", \"international plan\"], axis=1)\n",
    "df = df.replace({True: 1, False: 0})\n",
    "\n",
    "\n",
    "print(df.isna().sum().any())\n",
    "feats = df.drop('churn', axis=1)\n",
    "target = df['churn']\n",
    "X_train, X_test, y_train, y_test = train_test_split(feats, target, test_size=0.25)\n",
    "\n",
    "float_cols = df.select_dtypes(include=['float']).columns\n",
    "scaler = StandardScaler()\n",
    "X_train[float_cols] = scaler.fit_transform(X_train[float_cols])\n",
    "X_test[float_cols] = scaler.fit_transform(X_test[float_cols])\n",
    "\n",
    "\n",
    "\n",
    "\n",
    "\n",
    "\n",
    "\n",
    "\n",
    "\n",
    "\n",
    "enc = OneHotEncoder(handle_unknown='ignore')\n",
    "#Fit the encoder to the training data (X_train) and transform X_train simultaneously\n",
    "X_train_enc = enc.fit_transform(X_train)\n",
    "\n",
    "\n",
    "#Also transform the test data (X_test).\n",
    "#No need to fit the encoder to the test data as it has already been fitted to the training data.\n",
    "#Simply use the transform() method.\n",
    "X_test_enc = enc.transform(X_test)\n"
   ]
  },
  {
   "cell_type": "code",
   "execution_count": 17,
   "metadata": {},
   "outputs": [
    {
     "data": {
      "text/plain": [
       "0    0.855086\n",
       "1    0.144914\n",
       "Name: churn, dtype: float64"
      ]
     },
     "execution_count": 17,
     "metadata": {},
     "output_type": "execute_result"
    }
   ],
   "source": [
    "target.value_counts(normalize=True)"
   ]
  },
  {
   "cell_type": "code",
   "execution_count": 18,
   "metadata": {},
   "outputs": [
    {
     "name": "stdout",
     "output_type": "stream",
     "text": [
      "Score on test set: 0.8585131894484412\n"
     ]
    }
   ],
   "source": [
    "svm = SVC(gamma='scale')\n",
    "svm.fit(X_train, y_train)\n",
    "\n",
    "print('Score on test set:', svm.score(X_test, y_test))"
   ]
  },
  {
   "cell_type": "code",
   "execution_count": 19,
   "metadata": {},
   "outputs": [
    {
     "data": {
      "image/png": "[encoded data removed]",
      "text/plain": [
       "<Figure size 640x480 with 2 Axes>"
      ]
     },
     "metadata": {},
     "output_type": "display_data"
    }
   ],
   "source": [
    "y_pred = svm.predict(X_test)\n",
    "\n",
    "cm = confusion_matrix(y_test, y_pred)\n",
    "\n",
    "disp = ConfusionMatrixDisplay(confusion_matrix=cm)\n",
    "disp.plot(cmap='viridis')\n",
    "\n",
    "plt.title(\"Confusion Matrix\")\n",
    "plt.show()"
   ]
  },
  {
   "cell_type": "code",
   "execution_count": 26,
   "metadata": {},
   "outputs": [
    {
     "name": "stdout",
     "output_type": "stream",
     "text": [
      "                   pre       rec       spe        f1       geo       iba       sup\n",
      "\n",
      "          0       0.86      1.00      0.00      0.92      0.00      0.00       716\n",
      "          1       0.00      0.00      1.00      0.00      0.00      0.00       118\n",
      "\n",
      "avg / total       0.74      0.86      0.14      0.79      0.00      0.00       834\n",
      "\n"
     ]
    },
    {
     "name": "stderr",
     "output_type": "stream",
     "text": [
      "/Users/notagain/.pyenv/versions/3.10.0/lib/python3.10/site-packages/sklearn/metrics/_classification.py:1334: UndefinedMetricWarning: Precision and F-score are ill-defined and being set to 0.0 in labels with no predicted samples. Use `zero_division` parameter to control this behavior.\n",
      "  _warn_prf(average, modifier, msg_start, len(result))\n"
     ]
    }
   ],
   "source": [
    "print(classification_report_imbalanced(y_test, y_pred))"
   ]
  },
  {
   "cell_type": "code",
   "execution_count": 27,
   "metadata": {},
   "outputs": [
    {
     "name": "stdout",
     "output_type": "stream",
     "text": [
      "Oversampled sample classes: {0: 2134, 1: 2134}\n",
      "SMOTE sample classes: {0: 2134, 1: 2134}\n"
     ]
    }
   ],
   "source": [
    "rOs = RandomOverSampler()\n",
    "X_ro, y_ro = rOs.fit_resample(X_train, y_train)\n",
    "print('Oversampled sample classes:', dict(pd.Series(y_ro).value_counts()))\n",
    "\n",
    "#SMOTE\n",
    "smo = SMOTE()\n",
    "X_sm, y_sm = smo.fit_resample(X_train, y_train)\n",
    "print('SMOTE sample classes:', dict(pd.Series(y_sm).value_counts()))"
   ]
  },
  {
   "cell_type": "code",
   "execution_count": 28,
   "metadata": {},
   "outputs": [
    {
     "name": "stdout",
     "output_type": "stream",
     "text": [
      "col_0    0    1\n",
      "churn          \n",
      "0      257  459\n",
      "1       20   98\n",
      "                   pre       rec       spe        f1       geo       iba       sup\n",
      "\n",
      "          0       0.93      0.36      0.83      0.52      0.55      0.28       716\n",
      "          1       0.18      0.83      0.36      0.29      0.55      0.31       118\n",
      "\n",
      "avg / total       0.82      0.43      0.76      0.49      0.55      0.29       834\n",
      "\n"
     ]
    }
   ],
   "source": [
    "svm = SVC(gamma='scale')\n",
    "svm.fit(X_ro, y_ro)\n",
    "\n",
    "y_pred = svm.predict(X_test)\n",
    "print(pd.crosstab(y_test, y_pred))\n",
    "\n",
    "print(classification_report_imbalanced(y_test, y_pred))"
   ]
  },
  {
   "cell_type": "code",
   "execution_count": 29,
   "metadata": {},
   "outputs": [
    {
     "name": "stdout",
     "output_type": "stream",
     "text": [
      "col_0    0    1\n",
      "churn          \n",
      "0      286  430\n",
      "1       26   92\n",
      "                   pre       rec       spe        f1       geo       iba       sup\n",
      "\n",
      "          0       0.92      0.40      0.78      0.56      0.56      0.30       716\n",
      "          1       0.18      0.78      0.40      0.29      0.56      0.32       118\n",
      "\n",
      "avg / total       0.81      0.45      0.73      0.52      0.56      0.30       834\n",
      "\n"
     ]
    }
   ],
   "source": [
    "svm = SVC(gamma='scale')\n",
    "svm.fit(X_sm, y_sm)\n",
    "\n",
    "y_pred = svm.predict(X_test)\n",
    "print(pd.crosstab(y_test, y_pred))\n",
    "print(classification_report_imbalanced(y_test, y_pred))"
   ]
  },
  {
   "cell_type": "code",
   "execution_count": 30,
   "metadata": {},
   "outputs": [
    {
     "name": "stdout",
     "output_type": "stream",
     "text": [
      "CC sample classes: {0: 365, 1: 365}\n"
     ]
    }
   ],
   "source": [
    "cc = ClusterCentroids()\n",
    "\n",
    "X_cc, y_cc = cc.fit_resample(X_train, y_train)\n",
    "\n",
    "print('CC sample classes:', dict(pd.Series(y_cc).value_counts()))"
   ]
  },
  {
   "cell_type": "code",
   "execution_count": 31,
   "metadata": {},
   "outputs": [
    {
     "name": "stdout",
     "output_type": "stream",
     "text": [
      "col_0    0    1\n",
      "churn          \n",
      "0      245  471\n",
      "1       22   96\n",
      "                   pre       rec       spe        f1       geo       iba       sup\n",
      "\n",
      "          0       0.92      0.34      0.81      0.50      0.53      0.27       716\n",
      "          1       0.17      0.81      0.34      0.28      0.53      0.29       118\n",
      "\n",
      "avg / total       0.81      0.41      0.75      0.47      0.53      0.27       834\n",
      "\n"
     ]
    }
   ],
   "source": [
    "svm = SVC(gamma='scale')\n",
    "svm.fit(X_cc, y_cc)\n",
    "\n",
    "y_pred = svm.predict(X_test)\n",
    "print(pd.crosstab(y_test, y_pred))\n",
    "print(classification_report_imbalanced(y_test, y_pred))"
   ]
  },
  {
   "cell_type": "code",
   "execution_count": 32,
   "metadata": {},
   "outputs": [
    {
     "name": "stdout",
     "output_type": "stream",
     "text": [
      "Undersampled sample classes : {0: 365, 1: 365}\n"
     ]
    }
   ],
   "source": [
    "rUs = RandomUnderSampler()\n",
    "\n",
    "X_ru, y_ru = rUs.fit_resample(X_train, y_train)\n",
    "\n",
    "print('Undersampled sample classes :', dict(pd.Series(y_ru).value_counts()))"
   ]
  },
  {
   "cell_type": "code",
   "execution_count": 33,
   "metadata": {},
   "outputs": [
    {
     "name": "stdout",
     "output_type": "stream",
     "text": [
      "col_0    0    1\n",
      "churn          \n",
      "0      281  435\n",
      "1       35   83\n",
      "                   pre       rec       spe        f1       geo       iba       sup\n",
      "\n",
      "          0       0.89      0.39      0.70      0.54      0.53      0.27       716\n",
      "          1       0.16      0.70      0.39      0.26      0.53      0.28       118\n",
      "\n",
      "avg / total       0.79      0.44      0.66      0.50      0.53      0.27       834\n",
      "\n"
     ]
    }
   ],
   "source": [
    "svm = SVC(gamma='scale')\n",
    "svm.fit(X_ru, y_ru)\n",
    "\n",
    "y_pred = svm.predict(X_test)\n",
    "print(pd.crosstab(y_test, y_pred))\n",
    "print(classification_report_imbalanced(y_test, y_pred))"
   ]
  },
  {
   "cell_type": "code",
   "execution_count": 36,
   "metadata": {},
   "outputs": [
    {
     "name": "stdout",
     "output_type": "stream",
     "text": [
      "col_0    0\n",
      "churn     \n",
      "0      716\n",
      "1      118\n",
      "                   pre       rec       spe        f1       geo       iba       sup\n",
      "\n",
      "          0       0.86      1.00      0.00      0.92      0.00      0.00       716\n",
      "          1       0.00      0.00      1.00      0.00      0.00      0.00       118\n",
      "\n",
      "avg / total       0.74      0.86      0.14      0.79      0.00      0.00       834\n",
      "\n"
     ]
    },
    {
     "name": "stderr",
     "output_type": "stream",
     "text": [
      "/Users/notagain/.pyenv/versions/3.10.0/lib/python3.10/site-packages/sklearn/metrics/_classification.py:1334: UndefinedMetricWarning: Precision and F-score are ill-defined and being set to 0.0 in labels with no predicted samples. Use `zero_division` parameter to control this behavior.\n",
      "  _warn_prf(average, modifier, msg_start, len(result))\n"
     ]
    }
   ],
   "source": [
    "from imblearn.under_sampling import TomekLinks\n",
    "\n",
    "tomek = TomekLinks()\n",
    "\n",
    "# Fit and resample the dataset\n",
    "X_train_resampled, y_train_resampled = tomek.fit_resample(X_train, y_train)\n",
    "\n",
    "\n",
    "svm = SVC(gamma='scale')\n",
    "svm.fit(X_train_resampled, y_train_resampled)\n",
    "\n",
    "y_pred = svm.predict(X_test)\n",
    "print(pd.crosstab(y_test, y_pred))\n",
    "print(classification_report_imbalanced(y_test, y_pred))"
   ]
  },
  {
   "cell_type": "code",
   "execution_count": 37,
   "metadata": {},
   "outputs": [
    {
     "data": {
      "text/html": [
       "<div>\n",
       "<style scoped>\n",
       "    .dataframe tbody tr th:only-of-type {\n",
       "        vertical-align: middle;\n",
       "    }\n",
       "\n",
       "    .dataframe tbody tr th {\n",
       "        vertical-align: top;\n",
       "    }\n",
       "\n",
       "    .dataframe thead th {\n",
       "        text-align: right;\n",
       "    }\n",
       "</style>\n",
       "<table border=\"1\" class=\"dataframe\">\n",
       "  <thead>\n",
       "    <tr style=\"text-align: right;\">\n",
       "      <th>col_0</th>\n",
       "      <th>0</th>\n",
       "      <th>1</th>\n",
       "    </tr>\n",
       "    <tr>\n",
       "      <th>churn</th>\n",
       "      <th></th>\n",
       "      <th></th>\n",
       "    </tr>\n",
       "  </thead>\n",
       "  <tbody>\n",
       "    <tr>\n",
       "      <th>0</th>\n",
       "      <td>298</td>\n",
       "      <td>418</td>\n",
       "    </tr>\n",
       "    <tr>\n",
       "      <th>1</th>\n",
       "      <td>37</td>\n",
       "      <td>81</td>\n",
       "    </tr>\n",
       "  </tbody>\n",
       "</table>\n",
       "</div>"
      ],
      "text/plain": [
       "col_0    0    1\n",
       "churn          \n",
       "0      298  418\n",
       "1       37   81"
      ]
     },
     "execution_count": 37,
     "metadata": {},
     "output_type": "execute_result"
    }
   ],
   "source": [
    "svm = SVC(probability=True, gamma='scale') # 'probability=True' is necessary to return probabilities\n",
    "svm.fit(X_ru, y_ru)                        # but slows down training\n",
    "\n",
    "threshold = 0.5 # Test with 0.4, 0.6, ...\n",
    "\n",
    "probs = svm.predict_proba(X_test)\n",
    "pred_class = (probs[:,1]>=threshold).astype('int')\n",
    "\n",
    "pd.crosstab(y_test, pred_class)"
   ]
  },
  {
   "cell_type": "code",
   "execution_count": 38,
   "metadata": {},
   "outputs": [
    {
     "data": {
      "text/html": [
       "<div>\n",
       "<style scoped>\n",
       "    .dataframe tbody tr th:only-of-type {\n",
       "        vertical-align: middle;\n",
       "    }\n",
       "\n",
       "    .dataframe tbody tr th {\n",
       "        vertical-align: top;\n",
       "    }\n",
       "\n",
       "    .dataframe thead th {\n",
       "        text-align: right;\n",
       "    }\n",
       "</style>\n",
       "<table border=\"1\" class=\"dataframe\">\n",
       "  <thead>\n",
       "    <tr style=\"text-align: right;\">\n",
       "      <th>col_0</th>\n",
       "      <th>0</th>\n",
       "      <th>1</th>\n",
       "    </tr>\n",
       "    <tr>\n",
       "      <th>churn</th>\n",
       "      <th></th>\n",
       "      <th></th>\n",
       "    </tr>\n",
       "  </thead>\n",
       "  <tbody>\n",
       "    <tr>\n",
       "      <th>0</th>\n",
       "      <td>223</td>\n",
       "      <td>493</td>\n",
       "    </tr>\n",
       "    <tr>\n",
       "      <th>1</th>\n",
       "      <td>14</td>\n",
       "      <td>104</td>\n",
       "    </tr>\n",
       "  </tbody>\n",
       "</table>\n",
       "</div>"
      ],
      "text/plain": [
       "col_0    0    1\n",
       "churn          \n",
       "0      223  493\n",
       "1       14  104"
      ]
     },
     "execution_count": 38,
     "metadata": {},
     "output_type": "execute_result"
    }
   ],
   "source": [
    "svm = SVC(gamma='scale', class_weight='balanced')\n",
    "svm.fit(X_train, y_train)                         \n",
    "\n",
    "preds = svm.predict(X_test)\n",
    "\n",
    "pd.crosstab(y_test, preds)"
   ]
  },
  {
   "cell_type": "code",
   "execution_count": 40,
   "metadata": {},
   "outputs": [
    {
     "name": "stdout",
     "output_type": "stream",
     "text": [
      "col_0    0    1\n",
      "churn          \n",
      "0      265  451\n",
      "1       23   95\n",
      "                   pre       rec       spe        f1       geo       iba       sup\n",
      "\n",
      "          0       0.92      0.37      0.81      0.53      0.55      0.29       716\n",
      "          1       0.17      0.81      0.37      0.29      0.55      0.31       118\n",
      "\n",
      "avg / total       0.81      0.43      0.74      0.49      0.55      0.29       834\n",
      "\n"
     ]
    }
   ],
   "source": [
    "from imblearn.combine import SMOTETomek\n",
    "\n",
    "smt = SMOTETomek(random_state=42)\n",
    "\n",
    "X_res, y_res = smt.fit_resample(X_train, y_train)\n",
    "\n",
    "svm = SVC(gamma='scale')\n",
    "svm.fit(X_res, y_res)\n",
    "\n",
    "y_pred = svm.predict(X_test)\n",
    "print(pd.crosstab(y_test, y_pred))\n",
    "print(classification_report_imbalanced(y_test, y_pred))"
   ]
  },
  {
   "cell_type": "code",
   "execution_count": 41,
   "metadata": {},
   "outputs": [
    {
     "name": "stderr",
     "output_type": "stream",
     "text": [
      "/Users/notagain/.pyenv/versions/3.10.0/lib/python3.10/site-packages/imblearn/ensemble/_forest.py:577: FutureWarning: The default of `sampling_strategy` will change from `'auto'` to `'all'` in version 0.13. This change will follow the implementation proposed in the original paper. Set to `'all'` to silence this warning and adopt the future behaviour.\n",
      "  warn(\n",
      "/Users/notagain/.pyenv/versions/3.10.0/lib/python3.10/site-packages/imblearn/ensemble/_forest.py:589: FutureWarning: The default of `replacement` will change from `False` to `True` in version 0.13. This change will follow the implementation proposed in the original paper. Set to `True` to silence this warning and adopt the future behaviour.\n",
      "  warn(\n",
      "/Users/notagain/.pyenv/versions/3.10.0/lib/python3.10/site-packages/imblearn/ensemble/_forest.py:601: FutureWarning: The default of `bootstrap` will change from `True` to `False` in version 0.13. This change will follow the implementation proposed in the original paper. Set to `False` to silence this warning and adopt the future behaviour.\n",
      "  warn(\n"
     ]
    },
    {
     "data": {
      "text/html": [
       "<div>\n",
       "<style scoped>\n",
       "    .dataframe tbody tr th:only-of-type {\n",
       "        vertical-align: middle;\n",
       "    }\n",
       "\n",
       "    .dataframe tbody tr th {\n",
       "        vertical-align: top;\n",
       "    }\n",
       "\n",
       "    .dataframe thead th {\n",
       "        text-align: right;\n",
       "    }\n",
       "</style>\n",
       "<table border=\"1\" class=\"dataframe\">\n",
       "  <thead>\n",
       "    <tr style=\"text-align: right;\">\n",
       "      <th>col_0</th>\n",
       "      <th>0</th>\n",
       "      <th>1</th>\n",
       "    </tr>\n",
       "    <tr>\n",
       "      <th>churn</th>\n",
       "      <th></th>\n",
       "      <th></th>\n",
       "    </tr>\n",
       "  </thead>\n",
       "  <tbody>\n",
       "    <tr>\n",
       "      <th>0</th>\n",
       "      <td>580</td>\n",
       "      <td>136</td>\n",
       "    </tr>\n",
       "    <tr>\n",
       "      <th>1</th>\n",
       "      <td>24</td>\n",
       "      <td>94</td>\n",
       "    </tr>\n",
       "  </tbody>\n",
       "</table>\n",
       "</div>"
      ],
      "text/plain": [
       "col_0    0    1\n",
       "churn          \n",
       "0      580  136\n",
       "1       24   94"
      ]
     },
     "execution_count": 41,
     "metadata": {},
     "output_type": "execute_result"
    }
   ],
   "source": [
    "from imblearn.ensemble import BalancedRandomForestClassifier\n",
    "\n",
    "bclf = BalancedRandomForestClassifier()\n",
    "bclf.fit(X_train, y_train) \n",
    "y_pred = bclf.predict(X_test)\n",
    "pd.crosstab(y_test, y_pred)"
   ]
  },
  {
   "cell_type": "code",
   "execution_count": null,
   "metadata": {},
   "outputs": [],
   "source": []
  },
  {
   "cell_type": "code",
   "execution_count": null,
   "metadata": {},
   "outputs": [],
   "source": []
  },
  {
   "cell_type": "code",
   "execution_count": null,
   "metadata": {},
   "outputs": [],
   "source": []
  },
  {
   "cell_type": "code",
   "execution_count": null,
   "metadata": {},
   "outputs": [],
   "source": []
  },
  {
   "cell_type": "code",
   "execution_count": null,
   "metadata": {},
   "outputs": [],
   "source": []
  },
  {
   "cell_type": "code",
   "execution_count": null,
   "metadata": {},
   "outputs": [],
   "source": []
  },
  {
   "cell_type": "code",
   "execution_count": null,
   "metadata": {},
   "outputs": [],
   "source": []
  },
  {
   "cell_type": "code",
   "execution_count": null,
   "metadata": {},
   "outputs": [],
   "source": []
  },
  {
   "cell_type": "code",
   "execution_count": null,
   "metadata": {},
   "outputs": [],
   "source": []
  },
  {
   "cell_type": "code",
   "execution_count": null,
   "metadata": {},
   "outputs": [],
   "source": []
  },
  {
   "cell_type": "code",
   "execution_count": null,
   "metadata": {},
   "outputs": [],
   "source": []
  },
  {
   "cell_type": "code",
   "execution_count": null,
   "metadata": {},
   "outputs": [],
   "source": []
  },
  {
   "cell_type": "code",
   "execution_count": null,
   "metadata": {},
   "outputs": [],
   "source": []
  }
 ],
 "metadata": {
  "kernelspec": {
   "display_name": "Python 3",
   "language": "python",
   "name": "python3"
  },
  "language_info": {
   "codemirror_mode": {
    "name": "ipython",
    "version": 3
   },
   "file_extension": ".py",
   "mimetype": "text/x-python",
   "name": "python",
   "nbconvert_exporter": "python",
   "pygments_lexer": "ipython3",
   "version": "3.10.0"
  }
 },
 "nbformat": 4,
 "nbformat_minor": 2
}
