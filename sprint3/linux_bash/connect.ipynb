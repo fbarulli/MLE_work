{
 "cells": [
  {
   "cell_type": "code",
   "execution_count": null,
   "metadata": {},
   "outputs": [],
   "source": []
  },
  {
   "cell_type": "markdown",
   "metadata": {},
   "source": [
    "ssh -i \"data_enginering_machine.pem\" ubuntu@34.245.25.85"
   ]
  },
  {
   "cell_type": "markdown",
   "metadata": {},
   "source": [
    "Understand the concept: Definition\n",
    "A virtual machine (abbreviated _VM_) is a virtual version of a computer. It shares its resources with it and thus has: a processor, memory, disks to store files and even the means to connect to the internet if necessary. While all of the parts that make up a computer are physical and tangible, virtual machines are considered virtual computers because they exist only as code.\n",
    "\n",
    "A virtual machine is therefore a program that creates a virtual computing environment. It borrows resources from the host computer where it is installed, and because it is partitioned and isolated from the rest of the system, any software installed on it cannot interfere with the host computer's main operating system. It allows you to run a different operating system and run programs on it as if they were running on a real physical machine.\n",
    "\n",
    "Virtual machines are actually computer files in which several pieces of information are stored, such as the chosen configuration, the parameters of its components and the instructions for its behavior.\n",
    "\n",
    "As these are just computer files, several virtual machines with different operating systems can coexist on the same physical computer.\n",
    "\n",
    "_A few words about the hypervisor..._\n",
    "\n",
    "The hypervisor allows you to create and manage virtual machines. It takes care of the distribution of physical resources between different virtual machines using software installed on the host machine. It thus allows the simultaneous execution of several operating systems on the same physical machine.\n",
    "\n",
    "The hypervisor is generally hosted in a public cloud, private or hybrid.\n",
    "\n",
    "\n",
    "\n",
    "Understand the utility: What is a VM for?\n",
    "Virtual machines can be used for different reasons, including:\n",
    "\n",
    "To run multiple operating systems on the same computer. It allows the use of applications not compatible with the native operating system. _For example, PowerBI from Microsoft, incompatible with MacOS, can be used on a MacBook by simulating a Windows machine thanks to virtualization!_\n",
    "\n",
    "To create an isolated and secure environment for testing software or applications. _For example, you can use a virtual machine to test new software without risking to damage your computer._\n",
    "\n",
    "To create a portable environment for application development or deployment. _For example, you can create a virtual machine with all the dependencies needed for your application and then deploy it to any computer._\n",
    "\n",
    "\n",
    "\n",
    "The role of virtual machines in Data Science\n",
    "As part of a Data Science project, virtual machines can be used for the following reasons:\n",
    "\n",
    "Isolation and security - Virtualization strengthens security by segmenting your workspace. Each application, or group of applications, isolated in its own virtual machine (VM), ensures the sustainability of the project. This approach protects sensitive data and minimizes the risk of virus contamination. Errors operating in a VM remain isolated, without impact on other applications and your computer, thanks to the absence of communication. And so, all VMs can be executed on the same physical machine, preserving this crucial isolation.\n",
    "\n",
    "Sandboxing - This ties in with the previous point; a VM can be used as a \"_sandbox_\" environment, to test different parameters of your project. Whether it is the libraries to install, the data to modify or the memory to allocate, this will not affect the main environment in any way. The VMs also have a _snapshot_ system, a sort of backup of the virtual machine at a specific moment, and _rollback_, allowing you to go back, depending on the need, during tests.\n",
    "\n",
    "Reproducibility and mobility - Cloning a VM to create an exact copy is simple and effective. In addition, the migration of a VM from one physical server to another is carried out without interruption, preserving its operation. This ease of movement promotes collaboration and data sharing. Sharing a VM then ensures that everyone works in the same environment, thus simplifying the reproducibility of results.\n",
    "\n",
    "\n",
    "\n",
    "Bonus: Understand how it works in depth\n",
    "_To go a little further, a few words on the different types of VM..._\n",
    "\n",
    "There are two types of hypervisors:\n",
    "\n",
    "Type 1 or bare metal.\n",
    "Type 2 or hosted.\n",
    "\n",
    "\n",
    "\n",
    "Type 2 hypervisor may be preferable for small-scale use, and benefits from lower costs at the expense of lower performance.\n",
    "\n",
    "\n",
    "\n",
    "\n",
    "You can note the resemblance to a tree, hence the use of the term \"_tree_\". Naturally, we call the base of the tree a root and we represent it by a /.\n",
    "\n",
    "The absolute path: The full path specifying the location of a file or folder departing from the system root. It's like giving the full address of a house, regardless of where you are. _For example, for the file photo_1.jpg, the absolute path is /home/max/images/photos_vac/photo_1.jpg._\n",
    "\n",
    "The relative path: The path to a file or folder relative to your current position, the current directory. It's like giving directions to a place in a city using local landmarks, like \"_turn right after the bookstore_\" or \"_keep straight after the park_\". It depends on your current location rather than giving a precise address from the starting point. _For example, from the max directory, the relative path to photo_1.jpg is images/photos_vac/photo_1.jpg (in this case we need not put a / at the start of the path)._ _If we wish to indicate the relative path to access the gdbd_3.jpg file from the photos_vac directory, simply go up one level in the tree using .. so that we would have the path ../ski/gdbd_3.jpg._\n",
    "\n",
    "\n",
    "\n"
   ]
  },
  {
   "cell_type": "markdown",
   "metadata": {},
   "source": [
    "he steps below will walk you through how to archive your work:\n",
    "\n",
    "Create the Examination folder on the Virtual Machine:\n",
    "\n",
    "On your virtual machine, create a folder named exam_examName_SURNAME. Replace examName with the name of the module being assessed and SURNAME with your surname.\n",
    "Add all required files for the exam. You can also include a text file with additional information for the proofreader. Avoid adding unnecessary files.\n",
    "Archive the folder:\n",
    "\n",
    "In the parent folder of the exam_examName_SURNAME folder, create an archive with the .tar extension using the command:"
   ]
  },
  {
   "cell_type": "markdown",
   "metadata": {},
   "source": [
    "scp -i \"data_enginering_machine.pem\" ubuntu@IP_VM:\"/exam_examName_SURNAME.tar\" .\n"
   ]
  },
  {
   "cell_type": "code",
   "execution_count": null,
   "metadata": {},
   "outputs": [],
   "source": []
  },
  {
   "cell_type": "code",
   "execution_count": null,
   "metadata": {},
   "outputs": [],
   "source": []
  },
  {
   "cell_type": "code",
   "execution_count": null,
   "metadata": {},
   "outputs": [],
   "source": []
  }
 ],
 "metadata": {
  "language_info": {
   "name": "python"
  }
 },
 "nbformat": 4,
 "nbformat_minor": 2
}
