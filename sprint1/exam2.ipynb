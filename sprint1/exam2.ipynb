{
 "cells": [
  {
   "cell_type": "code",
   "execution_count": 2,
   "metadata": {},
   "outputs": [
    {
     "data": {
      "text/plain": [
       "'Id\\tMSSubClass\\tMSZoning\\tLotFrontage\\tLotArea\\tStreet\\tAlley\\tLotShape\\tLandContour\\tUtilities\\t...\\tPoolArea\\tPoolQC\\tFence\\tMiscFeature\\tMiscVal\\tMoSold\\tYrSold\\tSaleType\\tSaleCondition\\tSalePrice\\n0\\t1\\t60\\tRL\\t65.0\\t8450\\tPave\\tNaN\\tReg\\tLvl\\tAllPub\\t...\\t0\\tNaN\\tNaN\\tNaN\\t0\\t2\\t2008\\tWD\\tNormal\\t208500\\n1\\t2\\t20\\tRL\\t80.0\\t9600\\tPave\\tNaN\\tReg\\tLvl\\tAllPub\\t...\\t0\\tNaN\\tNaN\\tNaN\\t0\\t5\\t2007\\tWD\\tNormal\\t181500\\n2\\t3\\t60\\tRL\\t68.0\\t11250\\tPave\\tNaN\\tIR1\\tLvl\\tAllPub\\t...\\t0\\tNaN\\tNaN\\tNaN\\t0\\t9\\t2008\\tWD\\tNormal\\t223500\\n3\\t4\\t70\\tRL\\t60.0\\t9550\\tPave\\tNaN\\tIR1\\tLvl\\tAllPub\\t...\\t0\\tNaN\\tNaN\\tNaN\\t0\\t2\\t2006\\tWD\\tAbnorml\\t140000\\n4\\t5\\t60\\tRL\\t84.0\\t14260\\tPave\\tNaN\\tIR1\\tLvl\\tAllPub\\t...\\t0\\tNaN\\tNaN\\tNaN\\t0\\t\\n\\n'"
      ]
     },
     "execution_count": 2,
     "metadata": {},
     "output_type": "execute_result"
    }
   ],
   "source": [
    "'''Id\tMSSubClass\tMSZoning\tLotFrontage\tLotArea\tStreet\tAlley\tLotShape\tLandContour\tUtilities\t...\tPoolArea\tPoolQC\tFence\tMiscFeature\tMiscVal\tMoSold\tYrSold\tSaleType\tSaleCondition\tSalePrice\n",
    "0\t1\t60\tRL\t65.0\t8450\tPave\tNaN\tReg\tLvl\tAllPub\t...\t0\tNaN\tNaN\tNaN\t0\t2\t2008\tWD\tNormal\t208500\n",
    "1\t2\t20\tRL\t80.0\t9600\tPave\tNaN\tReg\tLvl\tAllPub\t...\t0\tNaN\tNaN\tNaN\t0\t5\t2007\tWD\tNormal\t181500\n",
    "2\t3\t60\tRL\t68.0\t11250\tPave\tNaN\tIR1\tLvl\tAllPub\t...\t0\tNaN\tNaN\tNaN\t0\t9\t2008\tWD\tNormal\t223500\n",
    "3\t4\t70\tRL\t60.0\t9550\tPave\tNaN\tIR1\tLvl\tAllPub\t...\t0\tNaN\tNaN\tNaN\t0\t2\t2006\tWD\tAbnorml\t140000\n",
    "4\t5\t60\tRL\t84.0\t14260\tPave\tNaN\tIR1\tLvl\tAllPub\t...\t0\tNaN\tNaN\tNaN\t0\t\n",
    "\n",
    "'''"
   ]
  },
  {
   "cell_type": "code",
   "execution_count": null,
   "metadata": {},
   "outputs": [],
   "source": [
    "import matplotlib.pyplot as plt\n",
    "\n",
    "\n",
    "top_5_series = uk_series_sorted.head(5)  \n",
    "top_5_movies = uk_movies_sorted.head(5)  \n",
    "\n",
    "\n",
    "fig, ax = plt.subplots(1, 2, figsize=(15, 5))  \n",
    "\n",
    "\n",
    "ax.bar(top_5_series['title'], top_5_series['numVotes'])\n",
    "ax.set_title('Top 5 English Series by Popularity')\n",
    "ax.set_xlabel('Series Title')\n",
    "ax.set_ylabel('Number of Votes')\n",
    "ax.tick_params(axis='x', rotation=90)  \n",
    "\n",
    "\n",
    "ax[1].bar(top_5_movies['title'], top_5_movies['numVotes'])\n",
    "ax[1].set_title('Top 5 English Movies by Popularity')\n",
    "ax[1].set_xlabel('Movie Title')\n",
    "ax[1].set_ylabel('Number of Votes')\n",
    "ax[1].tick_params(axis='x', rotation=90)  \n",
    "\n",
    "\n",
    "fig.tight_layout()\n",
    "\n",
    "\n",
    "plt.show()"
   ]
  },
  {
   "cell_type": "code",
   "execution_count": null,
   "metadata": {},
   "outputs": [],
   "source": [
    "import matplotlib.pyplot as plt\n",
    "\n",
    "\n",
    "top_5_series = uk_series_sorted.head(5)  # Top 5 English Series\n",
    "top_5_movies = uk_movies_sorted.head(5)  # Top 5 English Movies\n",
    "\n",
    "\n",
    "fig, ax = plt.subplots(1, 2, figsize=(15, 5))  # Adjust figure size as needed\n",
    "\n",
    "\n",
    "ax.bar(top_5_series['title'], top_5_series['numVotes'])\n",
    "ax.set_title('Top 5 English Series by Popularity')\n",
    "ax.set_xlabel('Series Title')\n",
    "ax.set_ylabel('Number of Votes')\n",
    "ax.tick_params(axis='x', rotation=90)  # Rotate x-axis labels for readability\n",
    "\n",
    "\n",
    "ax[1].bar(top_5_movies['title'], top_5_movies['numVotes'])\n",
    "ax[1].set_title('Top 5 English Movies by Popularity')\n",
    "ax[1].set_xlabel('Movie Title')\n",
    "ax[1].set_ylabel('Number of Votes')\n",
    "ax[1].tick_params(axis='x', rotation=90)  # Rotate x-axis labels for readability\n",
    "\n",
    "\n",
    "fig.tight_layout()\n",
    "\n",
    "\n",
    "plt.show()"
   ]
  }
 ],
 "metadata": {
  "kernelspec": {
   "display_name": "Python 3",
   "language": "python",
   "name": "python3"
  },
  "language_info": {
   "codemirror_mode": {
    "name": "ipython",
    "version": 3
   },
   "file_extension": ".py",
   "mimetype": "text/x-python",
   "name": "python",
   "nbconvert_exporter": "python",
   "pygments_lexer": "ipython3",
   "version": "3.10.0"
  }
 },
 "nbformat": 4,
 "nbformat_minor": 2
}
